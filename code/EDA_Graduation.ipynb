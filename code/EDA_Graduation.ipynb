{
 "cells": [
  {
   "cell_type": "markdown",
   "metadata": {},
   "source": [
    "# NYC High School Graduation Rates for the Classes 2016-2023\n",
    "___"
   ]
  },
  {
   "cell_type": "code",
   "execution_count": 1,
   "metadata": {},
   "outputs": [],
   "source": [
    "import pandas as pd \n",
    "import matplotlib.pyplot as plt\n",
    "import seaborn as sns \n",
    "import numpy as np"
   ]
  },
  {
   "cell_type": "code",
   "execution_count": 6,
   "metadata": {},
   "outputs": [],
   "source": [
    "#Store NYC public school graduation dataset file path in variable for readability\n",
    "grad_path = (\"/Users/sa14/Desktop/EducationCapstone Sprint0 EDA/data/CitywideGraduationResults_Cohorts_2012-2019_Classes2016-2023.csv\")\n",
    "\n",
    "#Load NYC public school grad dataset csv as a dataframe\n",
    "df = pd.read_csv(grad_path)\n"
   ]
  }
 ],
 "metadata": {
  "kernelspec": {
   "display_name": "older_python_310",
   "language": "python",
   "name": "python3"
  },
  "language_info": {
   "codemirror_mode": {
    "name": "ipython",
    "version": 3
   },
   "file_extension": ".py",
   "mimetype": "text/x-python",
   "name": "python",
   "nbconvert_exporter": "python",
   "pygments_lexer": "ipython3",
   "version": "3.10.16"
  }
 },
 "nbformat": 4,
 "nbformat_minor": 2
}
